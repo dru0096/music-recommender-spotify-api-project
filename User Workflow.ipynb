{
 "cells": [
  {
   "cell_type": "code",
   "execution_count": null,
   "id": "186431e4",
   "metadata": {},
   "outputs": [],
   "source": [
    "import requests # to download html code\n",
    "from bs4 import BeautifulSoup # to navigate through the html code\n",
    "import pandas as pd\n",
    "import numpy as np\n",
    "import re  \n",
    "from sklearn.preprocessing import StandardScaler\n",
    "import pickle"
   ]
  },
  {
   "cell_type": "code",
   "execution_count": null,
   "id": "ca03daa1",
   "metadata": {},
   "outputs": [],
   "source": [
    "import sys\n",
    "sys.path.insert(1,'/Users/devirughani/Desktop/IronHack/Week_6/Spotify_Midterm_Project/config.py')\n",
    "from config import *"
   ]
  },
  {
   "cell_type": "code",
   "execution_count": null,
   "id": "43bd041b",
   "metadata": {},
   "outputs": [],
   "source": [
    "import spotipy\n",
    "import json\n",
    "from spotipy.oauth2 import SpotifyClientCredentials\n",
    "sp = spotipy.Spotify(auth_manager=SpotifyClientCredentials(client_id= client_id,\n",
    "                                                           client_secret= client_secret_id))\n"
   ]
  },
  {
   "cell_type": "code",
   "execution_count": null,
   "id": "bea4af34",
   "metadata": {},
   "outputs": [],
   "source": [
    "def load(filename = \"filename.pickle\"): \n",
    "    try: \n",
    "        with open(filename, \"rb\") as f: \n",
    "            return pickle.load(f) \n",
    "    except FileNotFoundError: \n",
    "        print(\"File not found!\") "
   ]
  },
  {
   "cell_type": "code",
   "execution_count": null,
   "id": "fe2be241",
   "metadata": {},
   "outputs": [],
   "source": [
    "\n",
    "def song_recommender():\n",
    "    '''\n",
    "    1. Enter song\n",
    "    2. Get audio features for that song with it's song id\n",
    "    '''\n",
    "    answer = True\n",
    "    while (answer == True):\n",
    "        print('Enter song name:')\n",
    "        song = input() #Input asking for song name\n",
    "    \n",
    "        song_options = sp.search(q= song,limit=10)\n",
    "    \n",
    "        i=0\n",
    "        for item in song_options['tracks']['items']:#for loop that displays song name, the artist and url \n",
    "            print(i,\"I am thinking of this song: '{}' by '{}' and the url is: {}\".format(item['name'],item['artists'][0]['name'], item['external_urls']['spotify']))\n",
    "            i+=1\n",
    "    \n",
    "        print('. I am thinking of (Enter the song number):')\n",
    "        print()\n",
    "    \n",
    "        song_selection  = input()#input which asks for the number of the song(ordered number)\n",
    "        song_selection =int(song_selection)\n",
    "   \n",
    "        song_id = song_options['tracks']['items'][song_selection]['id']\n",
    "    \n",
    "\n",
    "        print(\"Browsing for songs\")\n",
    "        print()\n",
    "    \n",
    "        audio_feats = pd.DataFrame([sp.audio_features(song_id)[0]])\n",
    "        selected_audio_feats=audio_feats[['danceability','energy','acousticness','instrumentalness','liveness','valence']]\n",
    "    \n",
    "        #Scaling audio features\n",
    "        scaler = load(\"/Users/devirughani/Desktop/IronHack/Week_6/Spotify_Midterm_Project/scalers/kmeans_scaler.pickle\")\n",
    "    \n",
    "        X_scaled = scaler.transform(selected_audio_feats)\n",
    "        X_scaled_df = pd.DataFrame(X_scaled, columns = selected_audio_feats.columns)\n",
    "    \n",
    "        # Assigning cluster\n",
    "        best_model = load(\"/Users/devirughani/Desktop/IronHack/Week_6/Spotify_Midterm_Project/models/Kmeans_models/model_pickles11.pickle\")\n",
    "\n",
    "        cluster = best_model.predict(X_scaled_df)\n",
    "        #print(cluster)\n",
    "    \n",
    "        #Is song in hot 100? Else: find another song from not hot with same cluster \n",
    "        all_clustered_songs=pd.read_csv('/Users/devirughani/Desktop/IronHack/Week_6/Spotify_Midterm_Project/data/all_clustered_songs_final_with_id_df.csv')\n",
    "    \n",
    "        if (song_id in list(all_clustered_songs[all_clustered_songs['org'] == \"Hot\"]['id'].values)):\n",
    "            song_recommendation = all_clustered_songs[(all_clustered_songs['org'] == \"Hot\") & (all_clustered_songs['cluster'] == cluster[0])].sample(n=1)\n",
    "            #display(song_recommendation)\n",
    "            print(\"Gnoosic recommends: \",song_recommendation['song_title'].values[0])\n",
    "            print(\"by: \",song_recommendation['artist'].values[0])\n",
    "            print()\n",
    "    \n",
    "    \n",
    "        else:\n",
    "            song_recommendation = all_clustered_songs[(all_clustered_songs['org'] == \"Not Hot\") & (all_clustered_songs['cluster'] == cluster[0])].sample(n=1)\n",
    "            \n",
    "            print(\"Gnoosic recommends: \",song_recommendation['song_title'].values[0])\n",
    "            print(\"by: \",song_recommendation['artist'].values[0])\n",
    "            rec_id=song_recommendation['id'].values[0]\n",
    "            url = \"https://open.spotify.com/track/\" + rec_id\n",
    "            print(\"The link to the song is: {}\".format(url))\n",
    "            print()\n",
    "            \n",
    "            qa_1 = input(\"Would you like another song recommendation based on the same song? [Yes = 1, No = 0]\")\n",
    "            print()\n",
    "        \n",
    "            if ((qa_1 == '1') or (qa_1 == \"Yes\") or (qa_1 == \"yes\")):\n",
    "                new_song_recommendation = all_clustered_songs[(all_clustered_songs['org'] == \"Hot\") & (all_clustered_songs['cluster'] == cluster[0])].sample(n=1) \n",
    "                print(\"Gnoosic recommends: \",new_song_recommendation['song_title'].values[0])\n",
    "                print(\"by: \",new_song_recommendation['artist'].values[0])\n",
    "                rec_id2=new_song_recommendation['id'].values[0]\n",
    "                url2 = \"https://open.spotify.com/track/\" + rec_id2\n",
    "                print(\"The link to the song is: {}\".format(url2))\n",
    "                print()\n",
    "    \n",
    "            else:\n",
    "                qa_2 = input(\"Would you like another song recommendation based on a different song? [Yes = 1, No = 0]\")\n",
    "                print()\n",
    "                if ((qa_2 == '0') or (qa_2 == \"no\") or (qa_2 == \"No\")):\n",
    "                    answer=False\n",
    "                    print()\n",
    "                    print(\"Thank you for using Gnoosic to explore new music!\")\n",
    "                    print()\n",
    "                else:\n",
    "                    answer = True\n",
    "        print()"
   ]
  },
  {
   "cell_type": "markdown",
   "id": "6097d788",
   "metadata": {},
   "source": [
    "# song_recommender()"
   ]
  },
  {
   "cell_type": "code",
   "execution_count": 157,
   "id": "0887c286",
   "metadata": {
    "scrolled": true
   },
   "outputs": [
    {
     "name": "stdout",
     "output_type": "stream",
     "text": [
      "Enter song name:\n",
      "Thunderstruck\n",
      "0 I am thinking of this song: 'Thunderstruck' by 'AC/DC' and the url is: https://open.spotify.com/track/57bgtoPSgt236HzfBOd8kj\n",
      "1 I am thinking of this song: 'Thunderstruck' by 'AC/DC' and the url is: https://open.spotify.com/track/52UWtKlYjZO3dHoRlWuz9S\n",
      "2 I am thinking of this song: 'Thunderstruck' by '2CELLOS' and the url is: https://open.spotify.com/track/1taz71WL8grTxW6JLiL1i8\n",
      "3 I am thinking of this song: 'Thunderstruck - Violin Version' by 'Lisa Agnelli' and the url is: https://open.spotify.com/track/53G27kHLXQe71HwmN2evhU\n",
      "4 I am thinking of this song: 'Thunderstruck' by 'The Wiggles' and the url is: https://open.spotify.com/track/0yxneHHpWRwap3NNtN65Re\n",
      "5 I am thinking of this song: 'Thunderstruck - Live at River Plate Stadium, Buenos Aires, Argentina - December 2009' by 'AC/DC' and the url is: https://open.spotify.com/track/7eHlRQ5acXEIMdGAKe00fO\n",
      "6 I am thinking of this song: 'Thunderstruck' by 'Owl City' and the url is: https://open.spotify.com/track/0Ptx1Zqqf5Kknrcr89TFfv\n",
      "7 I am thinking of this song: 'Thunderstruck' by 'Steve ´n´ Seagulls' and the url is: https://open.spotify.com/track/2DMZ7rhk2LZvP6Gy8vthH5\n",
      "8 I am thinking of this song: 'Thunderstruck - Live - 1991' by 'AC/DC' and the url is: https://open.spotify.com/track/4f5V6rbtGt67AWtNGRS9vx\n",
      "9 I am thinking of this song: 'Thunderstruck (Cyberpunk)' by 'Melodicka Bros' and the url is: https://open.spotify.com/track/2iyZMcydf2QU5m9sHOV1P3\n",
      ". I am thinking of (Enter the song number):\n",
      "0\n",
      "Browsing for songs\n",
      "Gnoosic recommends:  Turning Point\n",
      "by:  Trevor Morris\n",
      "The link to the song is: https://open.spotify.com/track/2ShiXKmKaDmRlgIZAmfIvR\n"
     ]
    },
    {
     "ename": "KeyboardInterrupt",
     "evalue": "Interrupted by user",
     "output_type": "error",
     "traceback": [
      "\u001b[0;31m---------------------------------------------------------------------------\u001b[0m",
      "\u001b[0;31mKeyboardInterrupt\u001b[0m                         Traceback (most recent call last)",
      "\u001b[0;32m/var/folders/mw/6447zlmn5h9_r3fs75_lzjgm0000gn/T/ipykernel_87854/3991114513.py\u001b[0m in \u001b[0;36m<module>\u001b[0;34m\u001b[0m\n\u001b[0;32m----> 1\u001b[0;31m \u001b[0msong_recommender\u001b[0m\u001b[0;34m(\u001b[0m\u001b[0;34m)\u001b[0m\u001b[0;34m\u001b[0m\u001b[0;34m\u001b[0m\u001b[0m\n\u001b[0m",
      "\u001b[0;32m/var/folders/mw/6447zlmn5h9_r3fs75_lzjgm0000gn/T/ipykernel_87854/3695526735.py\u001b[0m in \u001b[0;36msong_recommender\u001b[0;34m()\u001b[0m\n\u001b[1;32m     58\u001b[0m \u001b[0;34m\u001b[0m\u001b[0m\n\u001b[1;32m     59\u001b[0m \u001b[0;34m\u001b[0m\u001b[0m\n\u001b[0;32m---> 60\u001b[0;31m             \u001b[0mqa_1\u001b[0m \u001b[0;34m=\u001b[0m \u001b[0minput\u001b[0m\u001b[0;34m(\u001b[0m\u001b[0;34m\"Would you like another song recommendation based on the same song? [Yes = 1, No = 0]\"\u001b[0m\u001b[0;34m)\u001b[0m\u001b[0;34m\u001b[0m\u001b[0;34m\u001b[0m\u001b[0m\n\u001b[0m\u001b[1;32m     61\u001b[0m \u001b[0;34m\u001b[0m\u001b[0m\n\u001b[1;32m     62\u001b[0m             \u001b[0;32mif\u001b[0m \u001b[0;34m(\u001b[0m\u001b[0;34m(\u001b[0m\u001b[0mqa_1\u001b[0m \u001b[0;34m==\u001b[0m \u001b[0;34m'1'\u001b[0m\u001b[0;34m)\u001b[0m \u001b[0;32mor\u001b[0m \u001b[0;34m(\u001b[0m\u001b[0mqa_1\u001b[0m \u001b[0;34m==\u001b[0m \u001b[0;34m\"Yes\"\u001b[0m\u001b[0;34m)\u001b[0m \u001b[0;32mor\u001b[0m \u001b[0;34m(\u001b[0m\u001b[0mqa_1\u001b[0m \u001b[0;34m==\u001b[0m \u001b[0;34m\"yes\"\u001b[0m\u001b[0;34m)\u001b[0m\u001b[0;34m)\u001b[0m\u001b[0;34m:\u001b[0m\u001b[0;34m\u001b[0m\u001b[0;34m\u001b[0m\u001b[0m\n",
      "\u001b[0;32m~/opt/anaconda3/lib/python3.9/site-packages/ipykernel/kernelbase.py\u001b[0m in \u001b[0;36mraw_input\u001b[0;34m(self, prompt)\u001b[0m\n\u001b[1;32m   1004\u001b[0m                 \u001b[0;34m\"raw_input was called, but this frontend does not support input requests.\"\u001b[0m\u001b[0;34m\u001b[0m\u001b[0;34m\u001b[0m\u001b[0m\n\u001b[1;32m   1005\u001b[0m             )\n\u001b[0;32m-> 1006\u001b[0;31m         return self._input_request(\n\u001b[0m\u001b[1;32m   1007\u001b[0m             \u001b[0mstr\u001b[0m\u001b[0;34m(\u001b[0m\u001b[0mprompt\u001b[0m\u001b[0;34m)\u001b[0m\u001b[0;34m,\u001b[0m\u001b[0;34m\u001b[0m\u001b[0;34m\u001b[0m\u001b[0m\n\u001b[1;32m   1008\u001b[0m             \u001b[0mself\u001b[0m\u001b[0;34m.\u001b[0m\u001b[0m_parent_ident\u001b[0m\u001b[0;34m[\u001b[0m\u001b[0;34m\"shell\"\u001b[0m\u001b[0;34m]\u001b[0m\u001b[0;34m,\u001b[0m\u001b[0;34m\u001b[0m\u001b[0;34m\u001b[0m\u001b[0m\n",
      "\u001b[0;32m~/opt/anaconda3/lib/python3.9/site-packages/ipykernel/kernelbase.py\u001b[0m in \u001b[0;36m_input_request\u001b[0;34m(self, prompt, ident, parent, password)\u001b[0m\n\u001b[1;32m   1049\u001b[0m             \u001b[0;32mexcept\u001b[0m \u001b[0mKeyboardInterrupt\u001b[0m\u001b[0;34m:\u001b[0m\u001b[0;34m\u001b[0m\u001b[0;34m\u001b[0m\u001b[0m\n\u001b[1;32m   1050\u001b[0m                 \u001b[0;31m# re-raise KeyboardInterrupt, to truncate traceback\u001b[0m\u001b[0;34m\u001b[0m\u001b[0;34m\u001b[0m\u001b[0m\n\u001b[0;32m-> 1051\u001b[0;31m                 \u001b[0;32mraise\u001b[0m \u001b[0mKeyboardInterrupt\u001b[0m\u001b[0;34m(\u001b[0m\u001b[0;34m\"Interrupted by user\"\u001b[0m\u001b[0;34m)\u001b[0m \u001b[0;32mfrom\u001b[0m \u001b[0;32mNone\u001b[0m\u001b[0;34m\u001b[0m\u001b[0;34m\u001b[0m\u001b[0m\n\u001b[0m\u001b[1;32m   1052\u001b[0m             \u001b[0;32mexcept\u001b[0m \u001b[0mException\u001b[0m\u001b[0;34m:\u001b[0m\u001b[0;34m\u001b[0m\u001b[0;34m\u001b[0m\u001b[0m\n\u001b[1;32m   1053\u001b[0m                 \u001b[0mself\u001b[0m\u001b[0;34m.\u001b[0m\u001b[0mlog\u001b[0m\u001b[0;34m.\u001b[0m\u001b[0mwarning\u001b[0m\u001b[0;34m(\u001b[0m\u001b[0;34m\"Invalid Message:\"\u001b[0m\u001b[0;34m,\u001b[0m \u001b[0mexc_info\u001b[0m\u001b[0;34m=\u001b[0m\u001b[0;32mTrue\u001b[0m\u001b[0;34m)\u001b[0m\u001b[0;34m\u001b[0m\u001b[0;34m\u001b[0m\u001b[0m\n",
      "\u001b[0;31mKeyboardInterrupt\u001b[0m: Interrupted by user"
     ]
    }
   ],
   "source": [
    "song_recommender()"
   ]
  },
  {
   "cell_type": "code",
   "execution_count": null,
   "id": "a148eb5b",
   "metadata": {},
   "outputs": [],
   "source": []
  },
  {
   "cell_type": "code",
   "execution_count": 159,
   "id": "80674395",
   "metadata": {},
   "outputs": [],
   "source": [
    "class color:\n",
    "   PURPLE = '\\033[95m'\n",
    "   CYAN = '\\033[96m'\n",
    "   DARKCYAN = '\\033[36m'\n",
    "   BLUE = '\\033[94m'\n",
    "   GREEN = '\\033[92m'\n",
    "   YELLOW = '\\033[93m'\n",
    "   RED = '\\033[91m'\n",
    "   BOLD = '\\033[1m'\n",
    "   UNDERLINE = '\\033[4m'\n",
    "   END = '\\033[0m'"
   ]
  },
  {
   "cell_type": "code",
   "execution_count": null,
   "id": "15f76f46",
   "metadata": {},
   "outputs": [],
   "source": [
    "#return print(color.BOLD +\"You should try: \"+ color.END)"
   ]
  },
  {
   "cell_type": "code",
   "execution_count": null,
   "id": "202276fd",
   "metadata": {},
   "outputs": [],
   "source": []
  }
 ],
 "metadata": {
  "kernelspec": {
   "display_name": "Python 3 (ipykernel)",
   "language": "python",
   "name": "python3"
  },
  "language_info": {
   "codemirror_mode": {
    "name": "ipython",
    "version": 3
   },
   "file_extension": ".py",
   "mimetype": "text/x-python",
   "name": "python",
   "nbconvert_exporter": "python",
   "pygments_lexer": "ipython3",
   "version": "3.9.7"
  }
 },
 "nbformat": 4,
 "nbformat_minor": 5
}
